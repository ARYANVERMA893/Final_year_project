{
 "cells": [
  {
   "cell_type": "markdown",
   "id": "5abd54fd",
   "metadata": {},
   "source": [
    "# importing libaries"
   ]
  },
  {
   "cell_type": "code",
   "execution_count": 30,
   "id": "0b873a08",
   "metadata": {},
   "outputs": [],
   "source": [
    "import numpy as np\n",
    "import pandas as pd\n",
    "import matplotlib.pyplot as plt\n",
    "from sklearn.preprocessing import MinMaxScaler\n",
    "from sklearn.metrics import mean_squared_error\n",
    "from tensorflow.keras.models import Sequential\n",
    "from datetime import datetime, timedelta\n",
    "from tensorflow.keras.layers import LSTM, Dense\n",
    "from tensorflow.keras.optimizers import Adam\n",
    "from kerastuner.tuners import RandomSearch\n",
    "from tensorflow.keras.callbacks import EarlyStopping, ModelCheckpoint\n",
    "from sklearn.feature_extraction.text import TfidfVectorizer\n",
    "from sklearn.metrics.pairwise import linear_kernel\n",
    "import keras_tuner\n",
    "from sklearn.metrics.pairwise import cosine_similarity\n",
    "import yfinance as yf\n"
   ]
  },
  {
   "cell_type": "markdown",
   "id": "f3cef0cc",
   "metadata": {},
   "source": [
    "# Function to download stock data\n"
   ]
  },
  {
   "cell_type": "code",
   "execution_count": 15,
   "id": "e80bee84",
   "metadata": {},
   "outputs": [],
   "source": [
    "def download_stock_data(ticker, start_date, end_date):\n",
    "    stock_data = yf.download(ticker, start=start_date, end=end_date)\n",
    "    return stock_data\n"
   ]
  },
  {
   "cell_type": "markdown",
   "id": "eb090b53",
   "metadata": {},
   "source": [
    "# Function to preprocess data and create sequences"
   ]
  },
  {
   "cell_type": "code",
   "execution_count": 16,
   "id": "d606ccc6",
   "metadata": {},
   "outputs": [],
   "source": [
    "def create_sequences(data, sequence_length):\n",
    "    sequences = []\n",
    "    for i in range(len(data) - sequence_length):\n",
    "        seq = data[i:i+sequence_length]\n",
    "        label = data[i+sequence_length]\n",
    "        sequences.append((seq, label))\n",
    "    return np.array(sequences)\n"
   ]
  },
  {
   "cell_type": "markdown",
   "id": "8bf5548f",
   "metadata": {},
   "source": [
    "# Function to build and train the LSTM model\n"
   ]
  },
  {
   "cell_type": "code",
   "execution_count": 17,
   "id": "266f5b28",
   "metadata": {},
   "outputs": [],
   "source": [
    "def build_tunable_lstm_model(hp, sequence_length):\n",
    "    model = Sequential()\n",
    "    model.add(LSTM(units=hp.Int('lstm_units', min_value=50, max_value=200, step=50),\n",
    "                   input_shape=(sequence_length, 1)))\n",
    "    model.add(Dense(units=hp.Int('dense_units', min_value=32, max_value=128, step=32),\n",
    "                    activation='relu'))\n",
    "    model.add(Dense(1))\n",
    "    optimizer = Adam(learning_rate=hp.Float('learning_rate', min_value=0.0001, max_value=0.01, sampling='log'))\n",
    "    model.compile(optimizer=optimizer, loss='mean_squared_error')\n",
    "    return model\n"
   ]
  },
  {
   "cell_type": "code",
   "execution_count": 18,
   "id": "7d39161d",
   "metadata": {},
   "outputs": [
    {
     "data": {
      "text/plain": [
       "<function __main__.<lambda>(hp)>"
      ]
     },
     "execution_count": 18,
     "metadata": {},
     "output_type": "execute_result"
    }
   ],
   "source": [
    "lambda hp: build_tunable_lstm_model(hp, sequence_length)\n"
   ]
  },
  {
   "cell_type": "markdown",
   "id": "1630e961",
   "metadata": {},
   "source": [
    "# Function for hyperparameter tuning"
   ]
  },
  {
   "cell_type": "code",
   "execution_count": 19,
   "id": "c5087f53",
   "metadata": {},
   "outputs": [],
   "source": [
    "def tune_hyperparameters_tuner(train_data, val_data, sequence_length):\n",
    "    tuner = RandomSearch(\n",
    "        lambda hp: build_tunable_lstm_model(hp, sequence_length),\n",
    "        objective='val_loss',\n",
    "        max_trials=10,\n",
    "        directory='keras_tuner_dir',\n",
    "        project_name='stock_price_prediction')\n",
    "\n",
    "    tuner.search(train_data[0], train_data[1],\n",
    "                 epochs=50,\n",
    "                 batch_size=32,\n",
    "                 validation_data=val_data,\n",
    "                 callbacks=[EarlyStopping(monitor='val_loss', patience=10, restore_best_weights=True)])\n",
    "\n",
    "    best_model = tuner.get_best_models(num_models=1)[0]\n",
    "    best_mse = best_model.evaluate(val_data[0], val_data[1])\n",
    "    return best_model, best_mse\n"
   ]
  },
  {
   "cell_type": "markdown",
   "id": "8e53e56a",
   "metadata": {},
   "source": [
    "# function to generate_dates"
   ]
  },
  {
   "cell_type": "code",
   "execution_count": 20,
   "id": "5c89c2a9",
   "metadata": {},
   "outputs": [],
   "source": [
    "def generate_dates(start_date, end_date, sequence_length):\n",
    "    end_date = datetime.strptime(end_date, \"%Y-%m-%d\")\n",
    "    predicted_dates = [end_date + timedelta(days=i) for i in range(1, sequence_length + 1)]\n",
    "    return predicted_dates\n"
   ]
  },
  {
   "cell_type": "markdown",
   "id": "8783f430",
   "metadata": {},
   "source": [
    "# Function to predict stock prices"
   ]
  },
  {
   "cell_type": "code",
   "execution_count": 21,
   "id": "5c9857e7",
   "metadata": {},
   "outputs": [],
   "source": [
    "def predict_stock_prices(model, test_data):\n",
    "    predictions = model.predict(test_data)\n",
    "    return predictions\n"
   ]
  },
  {
   "cell_type": "markdown",
   "id": "982330e2",
   "metadata": {},
   "source": [
    "# function to recommend stocks name"
   ]
  },
  {
   "cell_type": "code",
   "execution_count": 22,
   "id": "039c31f3",
   "metadata": {},
   "outputs": [],
   "source": [
    "def recommend_stock_names_cosine_similarity(search_query, stock_names, stock_sector_mapping):\n",
    "    search_query_sector = stock_sector_mapping.get(search_query, \"\")\n",
    "    \n",
    "    filtered_stock_names = [stock_name for stock_name, sector in zip(stock_names, stock_sector_mapping.values()) if sector.lower() == search_query_sector.lower()]\n",
    "    \n",
    "    vectorizer = TfidfVectorizer()\n",
    "    stock_name_vectors = vectorizer.fit_transform(filtered_stock_names)\n",
    "    \n",
    "    search_query_vector = vectorizer.transform([search_query])\n",
    "    \n",
    "    similarities = cosine_similarity(search_query_vector, stock_name_vectors)\n",
    "    \n",
    "    top_indices = similarities.argsort()[0][-6:][::-1]  # Increase by one to include the search query itself\n",
    "    \n",
    "    recommended_stocks = [(filtered_stock_names[i], search_query_sector) for i in top_indices if filtered_stock_names[i].lower() != search_query.lower()]\n",
    "    \n",
    "    return recommended_stocks[:5]  # Return top 5 recommendations\n"
   ]
  },
  {
   "cell_type": "markdown",
   "id": "c26ce5bf",
   "metadata": {},
   "source": [
    "# loading a file"
   ]
  },
  {
   "cell_type": "code",
   "execution_count": 23,
   "id": "5c8d7034",
   "metadata": {},
   "outputs": [],
   "source": [
    "def load_stock_data_from_file(filename):\n",
    "    stock_data = {}\n",
    "    with open(filename, 'r') as f:\n",
    "        exec(f.read(), stock_data)\n",
    "    return stock_data['stock_names'], stock_data['stock_sector_mapping']\n"
   ]
  },
  {
   "cell_type": "markdown",
   "id": "aa87cecc",
   "metadata": {},
   "source": [
    "# evaluating function"
   ]
  },
  {
   "cell_type": "code",
   "execution_count": 24,
   "id": "83932db5",
   "metadata": {},
   "outputs": [],
   "source": [
    "def evaluate_model_and_recommend(ticker, start_date, end_date, stock_names):\n",
    "    # Download stock data\n",
    "    stock_data = download_stock_data(ticker, start_date, end_date)\n",
    "    \n",
    "    if stock_data is None:\n",
    "        return None, None, None, None\n",
    "\n",
    "    # Preprocess data\n",
    "    scaler = MinMaxScaler(feature_range=(0, 1))\n",
    "    scaled_data = scaler.fit_transform(stock_data['Close'].values.reshape(-1, 1))\n",
    "\n",
    "    # Create sequences\n",
    "    sequence_length = 10\n",
    "    sequences = create_sequences(scaled_data, sequence_length)\n",
    "\n",
    "    # Split data into train and validation sets\n",
    "    train_size = int(len(sequences) * 0.8)\n",
    "    train_data = sequences[:train_size]\n",
    "    val_data = sequences[train_size:]\n",
    "    train_X, train_y = zip(*train_data)\n",
    "    val_X, val_y = zip(*val_data)\n",
    "\n",
    "    train_X = np.array(train_X)\n",
    "    train_y = np.array(train_y)\n",
    "    val_X = np.array(val_X)\n",
    "    val_y = np.array(val_y)\n",
    "\n",
    "    # Reshape the data\n",
    "    train_X = np.reshape(train_X, (train_X.shape[0], train_X.shape[1], 1))\n",
    "    val_X = np.reshape(val_X, (val_X.shape[0], val_X.shape[1], 1))\n",
    "\n",
    "    # Hyperparameter tuning\n",
    "    best_model, _ = tune_hyperparameters_tuner((train_X, train_y), (val_X, val_y), sequence_length)\n",
    "\n",
    "    # Test the model\n",
    "    test_data = sequences[train_size - sequence_length:]\n",
    "    test_X, test_y = zip(*test_data)\n",
    "    test_X = np.array(test_X)\n",
    "    test_y = np.array(test_y)\n",
    "\n",
    "    # Reshape the data\n",
    "    test_X = np.reshape(test_X, (test_X.shape[0], test_X.shape[1], 1))\n",
    "\n",
    "    predictions = predict_stock_prices(best_model, test_X)\n",
    "\n",
    "    # Inverse transform the predictions and actual values\n",
    "    predictions = scaler.inverse_transform(predictions)\n",
    "    actual_values = scaler.inverse_transform(np.array(test_y).reshape(-1, 1))\n",
    "\n",
    "    # Only keep the relevant part of actual_values\n",
    "    actual_values = actual_values[:len(predictions)]\n",
    "\n",
    "    # Recommend stock names based on user input using cosine similarity\n",
    "    recommended_stocks = recommend_stock_names_cosine_similarity(ticker, stock_names, stock_sector_mapping)\n",
    "\n",
    "    return actual_values, predictions, generate_dates(end_date, end_date, sequence_length), recommended_stocks\n"
   ]
  },
  {
   "cell_type": "markdown",
   "id": "cbf80ca5",
   "metadata": {},
   "source": [
    "# main function"
   ]
  },
  {
   "cell_type": "code",
   "execution_count": 25,
   "id": "88edb420",
   "metadata": {},
   "outputs": [
    {
     "name": "stdout",
     "output_type": "stream",
     "text": [
      "Enter the stock ticker: GOOGL\n",
      "Enter the start date (YYYY-MM-DD): 2020-01-01\n",
      "Enter the end date (YYYY-MM-DD): 2024-03-14\n",
      "[*********************100%***********************]  1 of 1 completed\n",
      "Reloading Tuner from keras_tuner_dir\\stock_price_prediction\\tuner0.json\n"
     ]
    },
    {
     "name": "stderr",
     "output_type": "stream",
     "text": [
      "C:\\Users\\D\\AppData\\Local\\Temp\\ipykernel_25996\\1077509186.py:7: VisibleDeprecationWarning: Creating an ndarray from ragged nested sequences (which is a list-or-tuple of lists-or-tuples-or ndarrays with different lengths or shapes) is deprecated. If you meant to do this, you must specify 'dtype=object' when creating the ndarray.\n",
      "  return np.array(sequences)\n"
     ]
    },
    {
     "name": "stdout",
     "output_type": "stream",
     "text": [
      "7/7 [==============================] - 1s 7ms/step - loss: 5.5627e-04\n",
      "7/7 [==============================] - 1s 7ms/step\n"
     ]
    }
   ],
   "source": [
    "if __name__ == \"__main__\":\n",
    "    ticker = input(\"Enter the stock ticker: \")\n",
    "    start_date = input(\"Enter the start date (YYYY-MM-DD): \")\n",
    "    end_date = input(\"Enter the end date (YYYY-MM-DD): \")\n",
    "\n",
    "    # Load stock data from file\n",
    "    filename = 'stock_data1.txt'\n",
    "    stock_names, stock_sector_mapping = load_stock_data_from_file(filename)\n",
    "    \n",
    "    actual_values, predictions, predicted_dates, recommended_stocks = evaluate_model_and_recommend(ticker, start_date, end_date, stock_names)\n"
   ]
  },
  {
   "cell_type": "markdown",
   "id": "94abcd3f",
   "metadata": {},
   "source": [
    "# prediction"
   ]
  },
  {
   "cell_type": "code",
   "execution_count": 26,
   "id": "f0193543",
   "metadata": {},
   "outputs": [
    {
     "name": "stdout",
     "output_type": "stream",
     "text": [
      "Stock Name: GOOGL\n",
      "Actual Values: [107.33999634 107.19999695 105.31999969 105.41000366 104.69000244\n",
      " 105.56999969 107.76999664 107.34999847 111.75       116.56999969\n",
      " 117.51000214 116.51000214 119.51000214 120.83999634 122.83000183\n",
      " 122.76000214 125.05000305 122.55999756 120.90000153 123.48000336\n",
      " 124.61000061 123.66999817 122.87000275 123.72000122 124.66999817\n",
      " 126.01000214 127.30999756 122.5        122.13999939 122.23000336\n",
      " 123.63999939 123.83000183 123.66999817 125.08999634 123.52999878\n",
      " 123.09999847 120.55000305 123.15000153 122.33999634 118.33999634\n",
      " 118.33000183 120.18000031 119.09999847 119.69999695 119.90000153\n",
      " 121.75       120.11000061 119.48000336 116.44999695 117.13999939\n",
      " 118.93000031 124.54000092 125.41999817 124.65000153 123.76000214\n",
      " 122.02999878 119.19999695 120.01999664 121.52999878 122.20999908\n",
      " 129.27000427 129.3999939  132.58000183 132.72000122 131.55000305\n",
      " 128.38000488 128.44999695 128.11000061 131.52999878 131.3999939\n",
      " 129.66000366 129.69000244 129.55999756 131.33000183 129.77999878\n",
      " 128.69999695 129.91999817 127.45999908 128.36999512 129.08000183\n",
      " 132.36999512 129.77999878 129.88000488 131.00999451 134.57000732\n",
      " 135.88000488 136.16999817 135.66000366 135.77000427 134.46000671\n",
      " 135.25999451 136.38000488 136.91999817 135.33999634 136.71000671\n",
      " 138.1000061  137.3999939  138.21000671 138.03999329 133.74000549\n",
      " 130.44000244 130.25       131.11000061 128.57000732 130.53999329\n",
      " 132.30999756 130.86000061 134.16999817 132.42999268 135.24000549\n",
      " 135.07000732 137.58000183 138.41999817 138.05999756 140.55000305\n",
      " 138.97000122 137.36000061 139.1000061  139.72000122 137.96000671\n",
      " 137.75       135.6000061  136.5        138.80999756 125.61000061\n",
      " 122.27999878 122.16999817 124.45999908 124.08000183 126.44999695\n",
      " 127.48999786 129.1000061  130.25       130.97000122 131.83999634\n",
      " 130.24000549 132.58999634 132.08999634 133.61999512 134.61999512\n",
      " 136.92999268 135.30999756 136.25       136.97000122 138.49000549\n",
      " 136.69000244 136.41000366 137.19999695 134.99000549 132.52999878\n",
      " 131.86000061 129.27000427 130.99000549 130.02000427 136.92999268\n",
      " 134.99000549 133.28999329 132.52000427 132.57000732 131.94000244\n",
      " 132.6000061  135.80000305 136.6499939  138.33999634 140.41999817\n",
      " 141.49000549 141.52000427 140.36999512 140.22999573 139.69000244\n",
      " 138.16999817 138.91999817 136.38999939 135.72999573 138.83999634\n",
      " 140.94999695 142.27999878 142.08000183 142.6499939  142.49000549\n",
      " 141.47000122 143.47999573 146.38000488 145.99000549 147.03999329\n",
      " 148.69999695 151.86999512 152.19000244 153.50999451 151.46000671\n",
      " 140.1000061  141.16000366 142.38000488 143.67999268 144.1000061\n",
      " 145.53999329 145.91000366 149.         147.52999878 145.13999939\n",
      " 145.94000244 142.77000427 140.52000427 141.11999512 142.55000305\n",
      " 144.08999634 143.96000671 137.57000732 138.88000488 136.38000488\n",
      " 138.46000671 137.13999939 133.3500061  132.66999817 131.3999939\n",
      " 134.38000488 135.41000366 137.66999817 138.5        139.78999329]\n",
      "\n",
      "***************************************************************\n",
      "\n",
      "Predicted Values\n",
      "\n",
      "Predicted Dates: [datetime.datetime(2024, 3, 15, 0, 0), datetime.datetime(2024, 3, 16, 0, 0), datetime.datetime(2024, 3, 17, 0, 0), datetime.datetime(2024, 3, 18, 0, 0), datetime.datetime(2024, 3, 19, 0, 0), datetime.datetime(2024, 3, 20, 0, 0), datetime.datetime(2024, 3, 21, 0, 0), datetime.datetime(2024, 3, 22, 0, 0), datetime.datetime(2024, 3, 23, 0, 0), datetime.datetime(2024, 3, 24, 0, 0)]\n",
      "Predictions: [106.617386 107.356026 107.48024  106.22152  105.77122  105.17015\n",
      " 105.580124 107.2377   107.60114  110.48713  114.61437  116.6812\n",
      " 116.61989  118.41856  119.96427  121.83178  122.45078  124.155716\n",
      " 123.1346   121.64194  122.89521  124.20097  124.046844 123.4077\n",
      " 123.75084  124.52674  125.69179  126.91882  124.07488  122.82054\n",
      " 122.55438  123.49595  123.99124  124.026245 124.94199  124.18278\n",
      " 123.573685 121.660675 122.796135 122.74482  120.0447   119.0825\n",
      " 120.06698  119.748535 119.97795  120.17025  121.42791  120.76766\n",
      " 120.03272  117.771355 117.488304 118.68291  122.85024  124.87435\n",
      " 124.874954 124.12907  122.673325 120.34352  120.19704  121.32938\n",
      " 122.24743  127.22991  128.9532   131.26099  132.23015  131.59123\n",
      " 129.22208  128.59589  128.35257  130.72122  131.48546  130.44002\n",
      " 130.05116  129.83397  130.98001  130.32066  129.34921  129.88051\n",
      " 128.43883  128.55446  129.11835  131.54706  130.5593   130.18634\n",
      " 130.82237  133.48314  135.24667  135.91216  135.70801  135.69545\n",
      " 134.83109  135.13715  136.09958  136.8158   135.93718  136.56017\n",
      " 137.73752  137.60997  138.08578  138.11707  135.16003  131.97412\n",
      " 130.97345  131.40588  129.87988  130.69194  132.1525   131.56029\n",
      " 133.49295  132.88707  134.52951  134.96533  136.78116  137.92465\n",
      " 138.0077   139.71631  139.17482  137.8784   138.71815  139.52078\n",
      " 138.555    138.10039  136.50082  136.6584   138.37648  129.77815\n",
      " 124.56088  123.240776 124.72588  124.95547  126.50759  127.58807\n",
      " 128.86803  129.91411  130.60054  131.40872  130.59842  131.93585\n",
      " 132.10133  133.20653  134.26062  136.16287  135.6302   136.03505\n",
      " 136.68419  137.95404  137.13326  136.64966  137.09962  135.7655\n",
      " 133.65973  132.58644  130.57712  131.17075  130.75917  135.2951\n",
      " 135.39944  134.04164  132.97906  132.71414  132.28127  132.64522\n",
      " 135.01096  136.3478   137.84682  139.62964  140.85838  141.2027\n",
      " 140.48842  140.20256  139.83824  138.75577  139.00092  137.39146\n",
      " 136.44528  138.35196  140.42586  141.89256  142.07738  142.42778\n",
      " 142.40164  141.69817  142.92079  145.40353  145.8834   146.67061\n",
      " 148.03905  150.62592  151.62009  152.75775  151.61818  143.25429\n",
      " 141.74742  142.5636   143.88129  144.52293  145.58739  146.01425\n",
      " 148.17761  147.67865  145.73569  145.80559  143.7175   141.58383\n",
      " 141.48561  142.56557  143.96404  144.20595  139.6703   139.1689\n",
      " 137.43535  138.39983  137.84894  135.017    133.64827  132.40897\n",
      " 134.09035  135.3338   137.20906  138.2519  ]\n",
      "\n",
      "Prediction Date: 2024-03-14\n",
      "Predicted Price: 138.2519\n"
     ]
    }
   ],
   "source": [
    "if actual_values is None or predictions is None or predicted_dates is None:\n",
    "    print(\"Prediction failed. Please try again later or check the name of stock.\")\n",
    "else:\n",
    "    print(\"Stock Name:\", ticker)\n",
    "    print(\"Actual Values:\", actual_values.flatten())\n",
    "    print()\n",
    "    print(\"***************************************************************\")\n",
    "    print()\n",
    "    print(\"Predicted Values\")\n",
    "    print()\n",
    "    print(\"Predicted Dates:\", predicted_dates)\n",
    "    print(\"Predictions:\", predictions.flatten())\n",
    "\n",
    "    last_prediction = predictions[-1][0]\n",
    "    print()\n",
    "    print(\"Prediction Date:\", end_date)\n",
    "    print(\"Predicted Price:\", last_prediction)\n"
   ]
  },
  {
   "cell_type": "markdown",
   "id": "e99e4f86",
   "metadata": {},
   "source": [
    "# recommendation"
   ]
  },
  {
   "cell_type": "code",
   "execution_count": 27,
   "id": "b983b19b",
   "metadata": {},
   "outputs": [
    {
     "name": "stdout",
     "output_type": "stream",
     "text": [
      "\n",
      "Recommended Stocks:\n",
      "DTE (Technology)\n",
      "NKE (Technology)\n",
      "MSFT (Technology)\n",
      "FB (Technology)\n",
      "NVDA (Technology)\n"
     ]
    }
   ],
   "source": [
    "print(\"\\nRecommended Stocks:\")\n",
    "for stock, sector in recommended_stocks:\n",
    "    print(f\"{stock} ({sector})\")\n"
   ]
  },
  {
   "cell_type": "code",
   "execution_count": 28,
   "id": "72ed07fe",
   "metadata": {},
   "outputs": [],
   "source": [
    "def plot_results(actual_values, predictions):\n",
    "    plt.figure(figsize=(12, 6))\n",
    "    plt.plot(actual_values, label='Actual Prices', color='blue', marker='o')\n",
    "    plt.plot(predictions, label='Predicted Prices', color='red', marker='o')\n",
    "    plt.title('Actual vs Predicted Stock Prices')\n",
    "    plt.xlabel('Time')\n",
    "    plt.ylabel('Stock Price')\n",
    "    plt.legend()\n",
    "    plt.grid(True)\n",
    "    plt.show()\n"
   ]
  },
  {
   "cell_type": "code",
   "execution_count": 29,
   "id": "9b036bda",
   "metadata": {},
   "outputs": [
    {
     "data": {
      "image/png": "[encoded data removed]",
      "text/plain": [
       "<Figure size 1200x600 with 1 Axes>"
      ]
     },
     "metadata": {},
     "output_type": "display_data"
    }
   ],
   "source": [
    "plot_results(actual_values, predictions)"
   ]
  }
 ],
 "metadata": {
  "kernelspec": {
   "display_name": "Python 3 (ipykernel)",
   "language": "python",
   "name": "python3"
  },
  "language_info": {
   "codemirror_mode": {
    "name": "ipython",
    "version": 3
   },
   "file_extension": ".py",
   "mimetype": "text/x-python",
   "name": "python",
   "nbconvert_exporter": "python",
   "pygments_lexer": "ipython3",
   "version": "3.9.13"
  }
 },
 "nbformat": 4,
 "nbformat_minor": 5
}
